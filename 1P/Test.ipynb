{
 "cells": [
  {
   "cell_type": "code",
   "execution_count": 1,
   "metadata": {},
   "outputs": [
    {
     "data": {
      "text/plain": [
       "['Requirement already satisfied: ipython-sql in /anaconda3/lib/python3.6/site-packages (0.3.9)',\n",
       " 'Requirement already satisfied: prettytable in /anaconda3/lib/python3.6/site-packages (from ipython-sql) (0.7.2)',\n",
       " 'Requirement already satisfied: six in /anaconda3/lib/python3.6/site-packages (from ipython-sql) (1.11.0)',\n",
       " 'Requirement already satisfied: ipython-genutils>=0.1.0 in /anaconda3/lib/python3.6/site-packages (from ipython-sql) (0.2.0)',\n",
       " 'Requirement already satisfied: sqlparse in /anaconda3/lib/python3.6/site-packages (from ipython-sql) (0.2.4)',\n",
       " 'Requirement already satisfied: ipython>=1.0 in /anaconda3/lib/python3.6/site-packages (from ipython-sql) (6.4.0)',\n",
       " 'Requirement already satisfied: sqlalchemy>=0.6.7 in /anaconda3/lib/python3.6/site-packages (from ipython-sql) (1.2.7)',\n",
       " 'Requirement already satisfied: traitlets>=4.2 in /anaconda3/lib/python3.6/site-packages (from ipython>=1.0->ipython-sql) (4.3.2)',\n",
       " 'Requirement already satisfied: setuptools>=18.5 in /anaconda3/lib/python3.6/site-packages (from ipython>=1.0->ipython-sql) (39.1.0)',\n",
       " 'Requirement already satisfied: jedi>=0.10 in /anaconda3/lib/python3.6/site-packages (from ipython>=1.0->ipython-sql) (0.12.0)',\n",
       " 'Requirement already satisfied: prompt-toolkit<2.0.0,>=1.0.15 in /anaconda3/lib/python3.6/site-packages (from ipython>=1.0->ipython-sql) (1.0.15)',\n",
       " 'Requirement already satisfied: pexpect; sys_platform != \"win32\" in /anaconda3/lib/python3.6/site-packages (from ipython>=1.0->ipython-sql) (4.5.0)',\n",
       " 'Requirement already satisfied: pygments in /anaconda3/lib/python3.6/site-packages (from ipython>=1.0->ipython-sql) (2.2.0)',\n",
       " 'Requirement already satisfied: simplegeneric>0.8 in /anaconda3/lib/python3.6/site-packages (from ipython>=1.0->ipython-sql) (0.8.1)',\n",
       " 'Requirement already satisfied: appnope; sys_platform == \"darwin\" in /anaconda3/lib/python3.6/site-packages (from ipython>=1.0->ipython-sql) (0.1.0)',\n",
       " 'Requirement already satisfied: pickleshare in /anaconda3/lib/python3.6/site-packages (from ipython>=1.0->ipython-sql) (0.7.4)',\n",
       " 'Requirement already satisfied: backcall in /anaconda3/lib/python3.6/site-packages (from ipython>=1.0->ipython-sql) (0.1.0)',\n",
       " 'Requirement already satisfied: decorator in /anaconda3/lib/python3.6/site-packages (from ipython>=1.0->ipython-sql) (4.3.0)',\n",
       " 'Requirement already satisfied: parso>=0.2.0 in /anaconda3/lib/python3.6/site-packages (from jedi>=0.10->ipython>=1.0->ipython-sql) (0.2.0)',\n",
       " 'Requirement already satisfied: wcwidth in /anaconda3/lib/python3.6/site-packages (from prompt-toolkit<2.0.0,>=1.0.15->ipython>=1.0->ipython-sql) (0.1.7)',\n",
       " 'Requirement already satisfied: ptyprocess>=0.5 in /anaconda3/lib/python3.6/site-packages (from pexpect; sys_platform != \"win32\"->ipython>=1.0->ipython-sql) (0.5.2)']"
      ]
     },
     "execution_count": 1,
     "metadata": {},
     "output_type": "execute_result"
    }
   ],
   "source": [
    "%%!\n",
    "pip install --trusted-host pypi.org ipython-sql"
   ]
  },
  {
   "cell_type": "code",
   "execution_count": 2,
   "metadata": {},
   "outputs": [],
   "source": [
    "%load_ext sql"
   ]
  },
  {
   "cell_type": "code",
   "execution_count": 3,
   "metadata": {},
   "outputs": [
    {
     "data": {
      "text/plain": [
       "'Connected: @None'"
      ]
     },
     "execution_count": 3,
     "metadata": {},
     "output_type": "execute_result"
    }
   ],
   "source": [
    "%sql sqlite://"
   ]
  },
  {
   "cell_type": "code",
   "execution_count": 4,
   "metadata": {},
   "outputs": [
    {
     "name": "stdout",
     "output_type": "stream",
     "text": [
      " * sqlite://\n",
      "Done.\n",
      "1 rows affected.\n",
      "1 rows affected.\n",
      "Done.\n"
     ]
    },
    {
     "data": {
      "text/html": [
       "<table>\n",
       "    <tr>\n",
       "        <th>firstname</th>\n",
       "        <th>lastname</th>\n",
       "    </tr>\n",
       "    <tr>\n",
       "        <td>daffy</td>\n",
       "        <td>duck</td>\n",
       "    </tr>\n",
       "    <tr>\n",
       "        <td>Mickey</td>\n",
       "        <td>Mouse</td>\n",
       "    </tr>\n",
       "</table>"
      ],
      "text/plain": [
       "[('daffy', 'duck'), ('Mickey', 'Mouse')]"
      ]
     },
     "execution_count": 4,
     "metadata": {},
     "output_type": "execute_result"
    }
   ],
   "source": [
    "%%sql \n",
    "CREATE TABLE CARTOON(firstname varchar(50),lastname varchar(50));\n",
    "INSERT INTO CARTOON VALUES('daffy','duck');\n",
    "INSERT INTO CARTOON VALUES('Mickey','Mouse');\n",
    "SELECT * from CARTOON;"
   ]
  },
  {
   "cell_type": "code",
   "execution_count": 5,
   "metadata": {},
   "outputs": [
    {
     "name": "stdout",
     "output_type": "stream",
     "text": [
      " * sqlite://\n",
      "1 rows affected.\n"
     ]
    },
    {
     "data": {
      "text/plain": [
       "[]"
      ]
     },
     "execution_count": 5,
     "metadata": {},
     "output_type": "execute_result"
    }
   ],
   "source": [
    "%%sql\n",
    "INSERT INTO CARTOON VALUES('BUZZ','LIGHTYEAR');"
   ]
  },
  {
   "cell_type": "code",
   "execution_count": 6,
   "metadata": {},
   "outputs": [
    {
     "name": "stdout",
     "output_type": "stream",
     "text": [
      " * sqlite://\n",
      "Done.\n"
     ]
    },
    {
     "data": {
      "text/html": [
       "<table>\n",
       "    <tr>\n",
       "        <th>firstname</th>\n",
       "        <th>lastname</th>\n",
       "    </tr>\n",
       "    <tr>\n",
       "        <td>daffy</td>\n",
       "        <td>duck</td>\n",
       "    </tr>\n",
       "    <tr>\n",
       "        <td>Mickey</td>\n",
       "        <td>Mouse</td>\n",
       "    </tr>\n",
       "    <tr>\n",
       "        <td>BUZZ</td>\n",
       "        <td>LIGHTYEAR</td>\n",
       "    </tr>\n",
       "</table>"
      ],
      "text/plain": [
       "[('daffy', 'duck'), ('Mickey', 'Mouse'), ('BUZZ', 'LIGHTYEAR')]"
      ]
     },
     "execution_count": 6,
     "metadata": {},
     "output_type": "execute_result"
    }
   ],
   "source": [
    "%%sql \n",
    "select * from cartoon;"
   ]
  },
  {
   "cell_type": "code",
   "execution_count": null,
   "metadata": {},
   "outputs": [],
   "source": []
  }
 ],
 "metadata": {
  "kernelspec": {
   "display_name": "Python 3",
   "language": "python",
   "name": "python3"
  },
  "language_info": {
   "codemirror_mode": {
    "name": "ipython",
    "version": 3
   },
   "file_extension": ".py",
   "mimetype": "text/x-python",
   "name": "python",
   "nbconvert_exporter": "python",
   "pygments_lexer": "ipython3",
   "version": "3.6.5"
  }
 },
 "nbformat": 4,
 "nbformat_minor": 2
}
